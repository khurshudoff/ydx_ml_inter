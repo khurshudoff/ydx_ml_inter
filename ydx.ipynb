{
 "cells": [
  {
   "cell_type": "markdown",
   "metadata": {},
   "source": [
    "### Install"
   ]
  },
  {
   "cell_type": "markdown",
   "metadata": {},
   "source": [
    "* This lib is required for sorted set.\n",
    "* You can see sortedset <a href=\"http://stutzbachenterprises.com/blist/sortedset.html\">docs here</a> .\n",
    "* <a href=\"https://en.wikipedia.org/wiki/B+_tree\">Here</a> is presented more information about complexity."
   ]
  },
  {
   "cell_type": "code",
   "execution_count": 5,
   "metadata": {},
   "outputs": [],
   "source": [
    "# !pip install blist"
   ]
  },
  {
   "cell_type": "markdown",
   "metadata": {},
   "source": [
    "### Imports"
   ]
  },
  {
   "cell_type": "code",
   "execution_count": null,
   "metadata": {},
   "outputs": [],
   "source": [
    "from blist import sortedset\n",
    "import random as rd"
   ]
  },
  {
   "cell_type": "markdown",
   "metadata": {},
   "source": [
    "### Main function"
   ]
  },
  {
   "cell_type": "code",
   "execution_count": 2,
   "metadata": {},
   "outputs": [],
   "source": [
    "def min_subarray_modulo_sum(arr, M):\n",
    "    \"\"\"Get list and modulo, returns the lower non empty subarray sum\n",
    "    This is a O(nlog(n)) algorithm.\n",
    "\n",
    "    Parameters\n",
    "    ----------\n",
    "    arr : list\n",
    "        The initial array\n",
    "    M : int\n",
    "        Modulo\n",
    "\n",
    "    Returns\n",
    "    -------\n",
    "    res\n",
    "        minimal non empty sub array sum\n",
    "    best_bound\n",
    "        bounds of subarray [left, right)\n",
    "    \"\"\"\n",
    "    cum_sum_arr = [arr[0] % M]\n",
    "    sorted_set = sortedset([(cum_sum_arr[-1], 0), (-M, -1)], key=lambda x: -x[0])\n",
    "    res = cum_sum_arr[-1]\n",
    "    best_bounds = (0, 1)\n",
    "    \n",
    "    for i in range(1, n):\n",
    "        cur = (cum_sum_arr[-1] + arr[i]) % M\n",
    "        \n",
    "        from_set = sorted_set[sorted_set.bisect_left((cur, 0))]\n",
    "        value = (cur - from_set[0]) % M\n",
    "        if value < res:\n",
    "            res = value\n",
    "            best_bounds = (from_set[1] + 1, i + 1)\n",
    "        cum_sum_arr.append(cur)\n",
    "        sorted_set.add((cur, i))\n",
    "        \n",
    "    return res, best_bounds"
   ]
  },
  {
   "cell_type": "markdown",
   "metadata": {},
   "source": [
    "### Dummy algorithm and helper functions for check"
   ]
  },
  {
   "cell_type": "code",
   "execution_count": 3,
   "metadata": {},
   "outputs": [],
   "source": [
    "def dummy_alg(arr, M):\n",
    "    \"\"\"Get list and modulo, returns the lower non empty subarray sum\n",
    "    This is a dummy O(n^3) algorithm. It should be used only for check.\n",
    "\n",
    "    Parameters\n",
    "    ----------\n",
    "    arr : list\n",
    "        The initial array\n",
    "    M : int\n",
    "        Modulo\n",
    "\n",
    "    Returns\n",
    "    -------\n",
    "    res\n",
    "        minimal non empty sub array sum\n",
    "    best_bound\n",
    "        bounds of subarray [left, right)\n",
    "    \"\"\"\n",
    "    n = len(arr)\n",
    "    res = M\n",
    "    best_bounds = (0, 1)\n",
    "\n",
    "    for i in range(n):\n",
    "        for j in range(i + 1, n + 1):\n",
    "            if sum(arr[i:j]) % M < res:\n",
    "                res = sum(arr[i:j]) % M\n",
    "                best_bounds = (i, j)\n",
    "\n",
    "    return res, best_bounds\n",
    "\n",
    "def check(arr, a1, a2, M):\n",
    "    l1, r1 = a1[1]\n",
    "    l2, r2 = a2[1]\n",
    "    if sum(arr[l1: r1]) % M == sum(arr[l2:r2]) % M:\n",
    "        return True\n",
    "    return False"
   ]
  },
  {
   "cell_type": "markdown",
   "metadata": {},
   "source": [
    "### Testing"
   ]
  },
  {
   "cell_type": "code",
   "execution_count": 4,
   "metadata": {},
   "outputs": [],
   "source": [
    "n = rd.randint(3, 30)\n",
    "M = rd.randint(1000, 10000)\n",
    "\n",
    "for _ in range(1000):\n",
    "    arr = [rd.randint(-100, 100) for _ in range(n)]\n",
    "    res = dummy_alg(arr, M), min_subarray_modulo_sum(arr, M)\n",
    "    if not check(arr, *res, M):\n",
    "        print(\"error\")\n",
    "        break"
   ]
  }
 ],
 "metadata": {
  "kernelspec": {
   "display_name": "pyvenv",
   "language": "python",
   "name": "pyvenv"
  },
  "language_info": {
   "codemirror_mode": {
    "name": "ipython",
    "version": 3
   },
   "file_extension": ".py",
   "mimetype": "text/x-python",
   "name": "python",
   "nbconvert_exporter": "python",
   "pygments_lexer": "ipython3",
   "version": "3.8.2"
  }
 },
 "nbformat": 4,
 "nbformat_minor": 4
}
